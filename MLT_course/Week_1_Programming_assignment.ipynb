{
 "cells": [
  {
   "cell_type": "markdown",
   "metadata": {
    "colab_type": "text",
    "id": "view-in-github"
   },
   "source": [
    "<a href=\"https://colab.research.google.com/github/kavishbhardwaj/Machine_Learning_Maths/blob/main/Week_1_Programming_assignment.ipynb\" target=\"_parent\"><img src=\"https://colab.research.google.com/assets/colab-badge.svg\" alt=\"Open In Colab\"/></a>"
   ]
  },
  {
   "cell_type": "markdown",
   "metadata": {
    "id": "53TcQvUOjGxr"
   },
   "source": [
    "# Week-1\n",
    "\n",
    "**Note to Learners**:\n",
    "\n",
    "- Click on \"Copy to Drive\", the button that appears just below the taskbar, to make a copy of this notebook in your drive. If you continue working with this notebook, changes **will not** be saved.\n",
    "\n",
    "\n",
    "- For questions that involve plotting, just enter $0$ as the answer in the portal.\n",
    "- For numerical questions, there are two parts. The first part expects you to compute some quantity, say a parameter of a machine learning model. The second part will require you to convert this quantity (if it is not a scalar) into a scalar so that it can be entered as the answer on the portal to the corresponding NAT question.\n",
    "\n"
   ]
  },
  {
   "cell_type": "markdown",
   "metadata": {
    "id": "I3DzbeU33QxN"
   },
   "source": [
    "## Dataset\n",
    "\n",
    "We will be working with a subset of the [MNIST dataset](https://en.wikipedia.org/wiki/MNIST_database). Run the cell given below to generate the data-matrix $\\mathbf{X}$, which is of shape $(n, d)$, where $n$ denotes the number of samples and $d$ denotes the number of features. You will be using this dataset for the rest of the assignment. Do not edit this cell."
   ]
  },
  {
   "cell_type": "code",
   "execution_count": 38,
   "metadata": {
    "id": "uOBXmnyg3ZFH"
   },
   "outputs": [],
   "source": [
    "##### DATASET GENERATION #####\n",
    "import numpy as np\n",
    "from keras.datasets import mnist\n",
    "(X_train, y_train), (X_test, y_test) = mnist.load_data()\n",
    "X = X_train[y_train == 2][: 100].reshape(-1, 28 * 28)\n",
    "test_image = X_test[y_test == 2][0].reshape(28 * 28)\n",
    "\n",
    "\n",
    "##### DO NOT EDIT THIS CELL #####"
   ]
  },
  {
   "cell_type": "markdown",
   "metadata": {
    "id": "5RyvzK8z4o47"
   },
   "source": [
    "## Problem-1\n",
    "\n",
    "How many samples does the dataset have?"
   ]
  },
  {
   "cell_type": "code",
   "execution_count": 39,
   "metadata": {
    "id": "rFXCXoje52x-"
   },
   "outputs": [
    {
     "name": "stdout",
     "output_type": "stream",
     "text": [
      "Number of samples in the dataset: 100\n"
     ]
    }
   ],
   "source": [
    "# Print the number of samples in the training and test sets\n",
    "num_samples = X.shape[0]\n",
    "print(\"Number of samples in the dataset:\", num_samples)"
   ]
  },
  {
   "cell_type": "markdown",
   "metadata": {
    "id": "UrmLi2sK4ynX"
   },
   "source": [
    "## Problem-2\n",
    "\n",
    "How many features does the dataset have?"
   ]
  },
  {
   "cell_type": "code",
   "execution_count": 40,
   "metadata": {
    "id": "WQ75O4D141R0"
   },
   "outputs": [
    {
     "name": "stdout",
     "output_type": "stream",
     "text": [
      "Number of features in the dataset: 784\n"
     ]
    }
   ],
   "source": [
    "num_features = X.shape[1]\n",
    "print(\"Number of features in the dataset:\", num_features)\n"
   ]
  },
  {
   "cell_type": "markdown",
   "metadata": {
    "id": "BPUFxtI55G2h"
   },
   "source": [
    "## Problem-3\n",
    "\n",
    "Each sample corresponds to an image of dimension $28 \\times 28$. Visualize one of these images using the `matplotlib` library.\n",
    "\n",
    "- You need to know how to reshape a feature vector. Refer to week-0 content for the same.\n",
    "- You can refer to the following [document](https://matplotlib.org/stable/tutorials/introductory/images.html#sphx-glr-tutorials-introductory-images-py) for plotting NumPy arrays as images using `matplotlib`."
   ]
  },
  {
   "cell_type": "code",
   "execution_count": 41,
   "metadata": {
    "id": "ExvRNXPZ6246"
   },
   "outputs": [
    {
     "data": {
      "image/png": "[encoded data removed]",
      "text/plain": [
       "<Figure size 1500x300 with 5 Axes>"
      ]
     },
     "metadata": {},
     "output_type": "display_data"
    }
   ],
   "source": [
    "#This script will display the first five images labeled as '2' from your training dataset\n",
    "# Display multiple images along with their labels\n",
    "fig, axes = plt.subplots(1, 5, figsize=(15, 3))  # Create a grid of 1x5 to display 5 images\n",
    "for i, ax in enumerate(axes):\n",
    "    ax.imshow(X_train[y_train == 2][i].reshape(28, 28), cmap='gray')  # Reshape and display each image\n",
    "    ax.title.set_text('Label: 2')\n",
    "    ax.axis('off')\n",
    "plt.show()\n",
    "\n"
   ]
  },
  {
   "cell_type": "markdown",
   "metadata": {
    "id": "8e2xflo8FF8K"
   },
   "source": [
    "## Problem-4\n",
    "\n",
    "Center the the dataset $\\mathbf{X}$ around its mean. Call this centered dataset $\\mathbf{X}^{\\prime}$.\n",
    "\n",
    "<u>Conversion</u>\n",
    "\n",
    "Enter the following quantity as your answer correct to two decimal places:\n",
    "\n",
    "$$\n",
    "\\cfrac{1}{n \\cdot d} \\sqrt{\\sum \\limits_{i = 1}^{n} \\sum \\limits_{j = 1}^{d} (X_{ij}^{\\prime})^2}\n",
    "$$"
   ]
  },
  {
   "cell_type": "code",
   "execution_count": 42,
   "metadata": {
    "id": "9uNDPtBjH5Df"
   },
   "outputs": [
    {
     "name": "stdout",
     "output_type": "stream",
     "text": [
      "Normalized sum of squares: 0.23\n"
     ]
    }
   ],
   "source": [
    "import numpy as np\n",
    "\n",
    "# Assuming X is already defined as your dataset of 100 samples\n",
    "# Each sample is a vector of 784 features\n",
    "\n",
    "# Step 1: Center the dataset around its mean\n",
    "X_prime = X - X.mean(axis=0)\n",
    "\n",
    "# Step 2: Calculate the sum of squares of the elements in X'\n",
    "sum_of_squares = np.sum(X_prime**2)\n",
    "\n",
    "# Step 3: Normalize the result\n",
    "n = X_prime.shape[0]  # number of samples\n",
    "d = X_prime.shape[1]  # number of features\n",
    "normalized_result = (1 / (n * d)) * np.sqrt(sum_of_squares)\n",
    "\n",
    "# Print the result rounded to two decimal places\n",
    "print(\"Normalized sum of squares:\", round(normalized_result, 2))\n",
    "\n"
   ]
  },
  {
   "cell_type": "markdown",
   "metadata": {},
   "source": [
    "### What is a Covariance Matrix?\n",
    "The covariance matrix \\( C \\) is a way to measure the covariance (or joint variability) between different dimensions (or features) across a set of data. For image data like the MNIST dataset, where each feature is a pixel intensity, the covariance matrix helps in understanding how pixel intensities vary together across the set of images.\n",
    "\n",
    "### How is it Computed for the 100 Images?\n",
    "Given your dataset \\( X' \\), which consists of 100 images of the digit '2', reshaped and centered around the mean:\n",
    "- **Dimensions**: Each image has been reshaped into a vector of 784 features (each corresponding to a pixel). So, \\( X' \\) is a 100x784 matrix.\n",
    "- **Covariance Computation**: The covariance matrix \\( C \\) is computed from \\( X' \\) where:\n",
    "  - The matrix \\( C \\) will be 784x784.\n",
    "  - Each entry \\( C_{ij} \\) in this matrix represents the covariance between the ith and jth features (pixels) across all 100 images.\n",
    "  \n",
    "\n",
    "### Python Implementation\n",
    "If you have not computed \\( C \\) yet, here’s how you would compute the covariance matrix for your centered dataset \\( X' \\) using NumPy:\n",
    "\n",
    "```python\n",
    "import numpy as np\n",
    "\n",
    "# Assuming X_prime is already defined as your centered dataset\n",
    "# Compute the covariance matrix\n",
    "C = np.cov(X_prime.T)  # Transpose X_prime to make variables as columns\n",
    "\n",
    "# Now C is a 784x784 matrix where each element represents the covariance between two pixels across the 100 images\n",
    "```\n",
    "\n",
    "This process gives you a comprehensive view of how pixel values in the images of the digit '2' vary in relation to one another, which can be crucial for tasks such as feature reduction, image compression, or pattern recognition."
   ]
  },
  {
   "cell_type": "markdown",
   "metadata": {
    "id": "8UPKuD8uJCnE"
   },
   "source": [
    "## Problem-5\n",
    "\n",
    "Compute the covariance matrix $\\mathbf{C}$ of the centered dataset.\n",
    "\n",
    "<u>Conversion</u>\n",
    "\n",
    "Enter the following quantity as your answer correct to two decimal places:\n",
    "\n",
    "$$\n",
    "\\cfrac{1}{d^2} \\sqrt{\\sum \\limits_{i = 1}^{d} \\sum \\limits_{j = 1}^{d} C_{ij}^2}\n",
    "$$"
   ]
  },
  {
   "cell_type": "code",
   "execution_count": 44,
   "metadata": {
    "id": "ZWT1bzBDlk2m"
   },
   "outputs": [
    {
     "name": "stdout",
     "output_type": "stream",
     "text": [
      "Calculated quantity: 1.38\n"
     ]
    }
   ],
   "source": [
    "import numpy as np\n",
    "\n",
    "# Assuming X_prime is already defined as your centered dataset of 100 samples\n",
    "# Each sample is a vector of 784 features\n",
    "\n",
    "# Step 1: Compute the covariance matrix of the centered dataset\n",
    "#C = np.cov(X_prime, rowvar=False)  # Use rowvar=False to treat rows as variables\n",
    "C = np.cov(X_prime.T)\n",
    "\n",
    "# Step 2: Calculate the sum of the squares of the elements in the covariance matrix\n",
    "sum_of_squares = np.sum(C**2)\n",
    "\n",
    "# Step 3: Calculate the required quantity\n",
    "d = X_prime.shape[1]  # number of features\n",
    "result = (1 / (d**2)) * np.sqrt(sum_of_squares)\n",
    "\n",
    "# Print the result rounded to two decimal places\n",
    "print(\"Calculated quantity:\", round(result, 2))"
   ]
  },
  {
   "cell_type": "markdown",
   "metadata": {
    "id": "FfJK8OiMr2mh"
   },
   "source": [
    "## Problem-6\n",
    "\n",
    "Compute the first and second principal components of the dataset, $\\mathbf{w}_1$ and $\\mathbf{w}_2$.\n",
    "\n",
    "<u>Conversion</u>\n",
    "\n",
    "Compute:\n",
    "$$\n",
    "\\mathbf{w} = \\mathbf{w}_1 + \\mathbf{w}_2\n",
    "$$\n",
    "\n",
    "Enter the following quantity as your answer correct to two decimal places:\n",
    "\n",
    "$$\n",
    "\\left| \\sum \\limits_{i = 1}^{d} w_i \\right|\n",
    "$$"
   ]
  },
  {
   "cell_type": "code",
   "execution_count": null,
   "metadata": {
    "id": "KgJ1FCa1tvZR"
   },
   "outputs": [
    {
     "ename": "ModuleNotFoundError",
     "evalue": "No module named 'sklearn'",
     "output_type": "error",
     "traceback": [
      "\u001b[1;31m---------------------------------------------------------------------------\u001b[0m",
      "\u001b[1;31mModuleNotFoundError\u001b[0m                       Traceback (most recent call last)",
      "Cell \u001b[1;32mIn[45], line 2\u001b[0m\n\u001b[0;32m      1\u001b[0m \u001b[38;5;28;01mimport\u001b[39;00m \u001b[38;5;21;01mnumpy\u001b[39;00m \u001b[38;5;28;01mas\u001b[39;00m \u001b[38;5;21;01mnp\u001b[39;00m\n\u001b[1;32m----> 2\u001b[0m \u001b[38;5;28;01mfrom\u001b[39;00m \u001b[38;5;21;01msklearn\u001b[39;00m\u001b[38;5;21;01m.\u001b[39;00m\u001b[38;5;21;01mdecomposition\u001b[39;00m \u001b[38;5;28;01mimport\u001b[39;00m PCA\n\u001b[0;32m      3\u001b[0m \u001b[38;5;28;01mfrom\u001b[39;00m \u001b[38;5;21;01msklearn\u001b[39;00m\u001b[38;5;21;01m.\u001b[39;00m\u001b[38;5;21;01mpreprocessing\u001b[39;00m \u001b[38;5;28;01mimport\u001b[39;00m StandardScaler\n\u001b[0;32m      5\u001b[0m \u001b[38;5;66;03m# Assuming X_prime is your data centered around the mean\u001b[39;00m\n\u001b[0;32m      6\u001b[0m \n\u001b[0;32m      7\u001b[0m \u001b[38;5;66;03m# Step 1: Standardize the data\u001b[39;00m\n",
      "\u001b[1;31mModuleNotFoundError\u001b[0m: No module named 'sklearn'"
     ]
    }
   ],
   "source": [
    "'''import numpy as np\n",
    "from sklearn.decomposition import PCA\n",
    "from sklearn.preprocessing import StandardScaler\n",
    "\n",
    "# Assuming X_prime is your data centered around the mean\n",
    "\n",
    "# Step 1: Standardize the data\n",
    "scaler = StandardScaler(with_mean=False, with_std=True)\n",
    "X_std = scaler.fit_transform(X_prime)  # Standardize the data to have unit variance\n",
    "\n",
    "# Step 2: Apply PCA for all components\n",
    "pca_all = PCA()  # Computes all principal components\n",
    "pca_all.fit(X_std)\n",
    "\n",
    "# Step 2a: Apply PCA for just the first two components\n",
    "pca_two = PCA(n_components=2)  # Limit to first two principal components\n",
    "pca_two.fit(X_std)\n",
    "\n",
    "# Step 3: Compute w = w1 + w2\n",
    "w = pca_two.components_[0] + pca_two.components_[1]  # Sum of first and second principal components\n",
    "\n",
    "# Calculate the modulus of w (which is the sum of the first two PCs)\n",
    "modulus_w = np.linalg.norm(w)\n",
    "\n",
    "# Step 4: Compute the sum of all principal components\n",
    "w_all = np.sum(pca_all.components_, axis=0)  # Summing all components\n",
    "\n",
    "# Step 5: Calculate the modulus of the sum of all principal components\n",
    "modulus_w_all = np.linalg.norm(w_all)\n",
    "\n",
    "# Print results rounded to two decimal places\n",
    "print(\"Sum of the first two principal components (modulus):\", round(modulus_w, 2))\n",
    "print(\"Modulus of the sum of all principal components:\", round(modulus_w_all, 2))'''\n"
   ]
  },
  {
   "cell_type": "code",
   "execution_count": 50,
   "metadata": {},
   "outputs": [
    {
     "name": "stdout",
     "output_type": "stream",
     "text": [
      "Sum of all components of the vector from the first two PCs: 1.05\n",
      "Sum of the first two principal components (modulus): 1.41\n",
      "Modulus of the sum of all principal components: 28.0\n"
     ]
    }
   ],
   "source": [
    "import numpy as np\n",
    "\n",
    "# Assuming X_prime is your centered dataset\n",
    "\n",
    "# Step 1: Standardize the data (optional scaling since mean is already zero)\n",
    "# Uncomment the next line if you need to scale by standard deviation\n",
    "# X_std = X_prime / np.std(X_prime, axis=0)\n",
    "\n",
    "X_std = X_prime  # If data is already scaled appropriately, use as is\n",
    "\n",
    "# Step 2: Compute the covariance matrix\n",
    "C = np.cov(X_std, rowvar=False)\n",
    "\n",
    "# Step 3: Compute eigenvalues and eigenvectors of the covariance matrix\n",
    "eigenvalues, eigenvectors = np.linalg.eigh(C)\n",
    "\n",
    "# Sort the eigenvectors by eigenvalues in descending order\n",
    "sorted_indices = np.argsort(eigenvalues)[::-1]\n",
    "sorted_eigenvectors = eigenvectors[:, sorted_indices]\n",
    "\n",
    "# Step 4: Extract the first two principal components\n",
    "w1 = sorted_eigenvectors[:, 0]\n",
    "w2 = sorted_eigenvectors[:, 1]\n",
    "w = w1 + w2\n",
    "sum_of_components_w = np.sum(w)\n",
    "\n",
    "# Calculate the modulus of w (sum of the first two PCs)\n",
    "modulus_w = np.linalg.norm(w)\n",
    "\n",
    "# Sum all principal components\n",
    "w_all = np.sum(sorted_eigenvectors, axis=1)\n",
    "\n",
    "# Calculate the modulus of the sum of all principal components\n",
    "modulus_w_all = np.linalg.norm(w_all)\n",
    "\n",
    "\n",
    "\n",
    "# Print results rounded to two decimal places\n",
    "#print(\"Sum of the first two principal components:\", w)\n",
    "print(\"Sum of all components of the vector from the first two PCs:\", round(sum_of_components_w, 2))\n",
    "print(\"Sum of the first two principal components (modulus):\", round(modulus_w, 2))\n",
    "print(\"Modulus of the sum of all principal components:\", round(modulus_w_all, 2))\n"
   ]
  },
  {
   "cell_type": "markdown",
   "metadata": {
    "id": "9CBt_pmj-5pl"
   },
   "source": [
    "## Problem-7\n",
    "\n",
    "Visualize the first principal component as an image."
   ]
  },
  {
   "cell_type": "code",
   "execution_count": 51,
   "metadata": {
    "id": "KXiJLyT7_N29"
   },
   "outputs": [
    {
     "data": {
      "image/png": "[encoded data removed]",
      "text/plain": [
       "<Figure size 640x480 with 1 Axes>"
      ]
     },
     "metadata": {},
     "output_type": "display_data"
    }
   ],
   "source": [
    "import numpy as np\n",
    "import matplotlib.pyplot as plt\n",
    "\n",
    "# Assuming X_prime is your centered data\n",
    "\n",
    "# Compute the covariance matrix\n",
    "C = np.cov(X_prime, rowvar=False)\n",
    "\n",
    "# Compute eigenvalues and eigenvectors\n",
    "eigenvalues, eigenvectors = np.linalg.eigh(C)\n",
    "\n",
    "# Sort eigenvectors by descending eigenvalues\n",
    "sorted_indices = np.argsort(eigenvalues)[::-1]\n",
    "sorted_eigenvectors = eigenvectors[:, sorted_indices]\n",
    "\n",
    "# Extract the first principal component\n",
    "first_pc = sorted_eigenvectors[:, 0]\n",
    "\n",
    "# Reshape this vector into a 28x28 matrix\n",
    "first_pc_image = first_pc.reshape(28, 28)\n",
    "\n",
    "# Plotting the first principal component as an image\n",
    "plt.imshow(first_pc_image, cmap='gray')\n",
    "plt.title('Visualized First Principal Component')\n",
    "plt.axis('off')  # Hide the axis to focus on the image\n",
    "plt.show()\n"
   ]
  },
  {
   "cell_type": "markdown",
   "metadata": {
    "id": "o37ie_mqxqhy"
   },
   "source": [
    "## Problem-8\n",
    "\n",
    "Find the smallest value of $k$ for which the first $k$ principal components capture at least $95\\%$ of the variance in the data."
   ]
  },
  {
   "cell_type": "code",
   "execution_count": 52,
   "metadata": {
    "id": "_JiPpEwCyvQK"
   },
   "outputs": [
    {
     "name": "stdout",
     "output_type": "stream",
     "text": [
      "The smallest number of principal components to capture at least 95% of the variance is: 53\n"
     ]
    }
   ],
   "source": [
    "import numpy as np\n",
    "\n",
    "# Assuming X_prime is your centered data\n",
    "\n",
    "# Compute the covariance matrix\n",
    "C = np.cov(X_prime, rowvar=False)\n",
    "\n",
    "# Compute eigenvalues (and optionally eigenvectors)\n",
    "eigenvalues, _ = np.linalg.eigh(C)\n",
    "\n",
    "# Sort eigenvalues in descending order\n",
    "sorted_eigenvalues = np.sort(eigenvalues)[::-1]\n",
    "\n",
    "# Calculate the total variance (sum of all eigenvalues)\n",
    "total_variance = np.sum(sorted_eigenvalues)\n",
    "\n",
    "# Determine the smallest number of principal components that explain at least 95% of the variance\n",
    "cumulative_variance = np.cumsum(sorted_eigenvalues)\n",
    "k = np.argmax(cumulative_variance >= 0.95 * total_variance) + 1  # +1 because indices start at 0\n",
    "\n",
    "print(\"The smallest number of principal components to capture at least 95% of the variance is:\", k)\n"
   ]
  },
  {
   "cell_type": "markdown",
   "metadata": {
    "id": "5raTmu_s0Gpq"
   },
   "source": [
    "## Problem-9\n",
    "\n",
    "Given a `test_image`, visualize the proxies  by reconstructing it using the top $k$ principal components. Consider four values of $k$; values of $k$ for which the top-$k$ principal components explain:\n",
    "\n",
    "- 20% of the variance\n",
    "- 50% of the variance\n",
    "- 80% of the variance\n",
    "- 95% of the variance\n",
    "\n"
   ]
  },
  {
   "cell_type": "code",
   "execution_count": 54,
   "metadata": {
    "id": "yrjf1Er24vLo"
   },
   "outputs": [
    {
     "data": {
      "image/png": "[encoded data removed]",
      "text/plain": [
       "<Figure size 1800x400 with 5 Axes>"
      ]
     },
     "metadata": {},
     "output_type": "display_data"
    }
   ],
   "source": [
    "import numpy as np\n",
    "import matplotlib.pyplot as plt\n",
    "\n",
    "# Assuming X_prime is your centered data and test_image is your selected test image\n",
    "\n",
    "# Compute the covariance matrix\n",
    "C = np.cov(X_prime, rowvar=False)\n",
    "\n",
    "# Compute eigenvalues and eigenvectors\n",
    "eigenvalues, eigenvectors = np.linalg.eigh(C)\n",
    "\n",
    "# Sort eigenvectors by descending eigenvalues\n",
    "sorted_indices = np.argsort(eigenvalues)[::-1]\n",
    "sorted_eigenvectors = eigenvectors[:, sorted_indices]\n",
    "sorted_eigenvalues = eigenvalues[sorted_indices]\n",
    "\n",
    "# Calculate total variance and cumulative variance\n",
    "total_variance = np.sum(sorted_eigenvalues)\n",
    "cumulative_variance = np.cumsum(sorted_eigenvalues) / total_variance\n",
    "\n",
    "# Thresholds for explained variance\n",
    "thresholds = [0.20, 0.50, 0.80, 0.95]\n",
    "k_values = [np.argmax(cumulative_variance >= t) + 1 for t in thresholds]\n",
    "\n",
    "# Function to reconstruct image from top k components\n",
    "def reconstruct_image(k, eigenvectors, mean_image, image):\n",
    "    top_k_eigenvectors = eigenvectors[:, :k]\n",
    "    image_projected = np.dot(image - mean_image, top_k_eigenvectors)\n",
    "    reconstructed = np.dot(image_projected, top_k_eigenvectors.T) + mean_image\n",
    "    return reconstructed.reshape(28, 28)\n",
    "\n",
    "# Reconstruct the image for each k\n",
    "reconstructed_images = [reconstruct_image(k, sorted_eigenvectors, X_prime.mean(axis=0), test_image) for k in k_values]\n",
    "\n",
    "# Plot the original and each reconstructed image\n",
    "fig, axes = plt.subplots(1, len(k_values) + 1, figsize=(18, 4))  # Adjust subplot setup\n",
    "axes[0].imshow(test_image.reshape(28, 28), cmap='gray')  # Show the original image\n",
    "axes[0].set_title('Original Image')\n",
    "axes[0].axis('off')\n",
    "\n",
    "for ax, img, k in zip(axes[1:], reconstructed_images, k_values):\n",
    "    ax.imshow(img, cmap='gray')\n",
    "    ax.set_title(f'Top {k} PCs')\n",
    "    ax.axis('off')\n",
    "\n",
    "plt.show()\n",
    "\n"
   ]
  }
 ],
 "metadata": {
  "colab": {
   "include_colab_link": true,
   "provenance": []
  },
  "gpuClass": "standard",
  "kernelspec": {
   "display_name": "simulations_env",
   "language": "python",
   "name": "python3"
  },
  "language_info": {
   "codemirror_mode": {
    "name": "ipython",
    "version": 3
   },
   "file_extension": ".py",
   "mimetype": "text/x-python",
   "name": "python",
   "nbconvert_exporter": "python",
   "pygments_lexer": "ipython3",
   "version": "3.12.3"
  }
 },
 "nbformat": 4,
 "nbformat_minor": 0
}
